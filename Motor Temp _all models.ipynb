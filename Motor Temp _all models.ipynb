{
 "cells": [
  {
   "cell_type": "code",
   "execution_count": 1,
   "metadata": {},
   "outputs": [
    {
     "name": "stderr",
     "output_type": "stream",
     "text": [
      "Using TensorFlow backend.\n"
     ]
    }
   ],
   "source": [
    "import numpy as np\n",
    "import seaborn as sns\n",
    "import pandas as pd\n",
    "import matplotlib.pyplot as plt\n",
    "import sklearn\n",
    "from sklearn import preprocessing\n",
    "from sklearn.model_selection import train_test_split\n",
    "from sklearn.metrics import r2_score\n",
    "import xgboost as xgb\n",
    "from xgboost.sklearn import XGBRegressor\n",
    "from sklearn.model_selection import GridSearchCV\n",
    "from sklearn.multioutput import MultiOutputRegressor\n",
    "import lightgbm as lgb #conda install lightgbm\n",
    "from sklearn.metrics import (roc_curve, auc, accuracy_score)\n",
    "from sklearn.metrics import r2_score,mean_squared_error\n",
    "import tensorflow as tf\n",
    "from keras.models import Sequential\n",
    "from keras.layers import Dense\n",
    "from keras.optimizers import Adam\n",
    "from keras.callbacks import EarlyStopping\n",
    "import pandas as p\n",
    "import sklearn\n",
    "from sklearn import preprocessing\n",
    "from sklearn.model_selection import train_test_split\n",
    "from sklearn.metrics import r2_score\n",
    "from keras.optimizers import Adadelta,Adagrad,RMSprop,Adam,Adamax,Nadam\n",
    "from sklearn.model_selection import GridSearchCV\n",
    "data = pd.read_csv(\"D:\\\\javeed\\\\DS documents\\\\abid dataset\\\\electric motor temp\\\\pmsm_temperature_data.csv\")"
   ]
  },
  {
   "cell_type": "code",
   "execution_count": 16,
   "metadata": {},
   "outputs": [],
   "source": [
    "X= data.drop(['stator_yoke','pm'], axis = 1)\n",
    "Y = data[['stator_yoke','pm']]\n",
    "train_x,test_x,train_y,test_y  = train_test_split(X,Y, test_size = 0.33, stratify=data.profile_id)\n",
    "train_x =train_x.drop(['profile_id'], axis = 1)\n",
    "test_x =test_x.drop(['profile_id'], axis = 1)"
   ]
  },
  {
   "cell_type": "code",
   "execution_count": 9,
   "metadata": {},
   "outputs": [],
   "source": [
    "from sklearn.preprocessing import MinMaxScaler\n",
    "sc = MinMaxScaler(feature_range = (0, 1))\n",
    "training_set_scaled = sc.fit_transform(train_x)\n",
    "testing_set_scaled = sc.fit_transform(test_x)"
   ]
  },
  {
   "cell_type": "markdown",
   "metadata": {},
   "source": [
    "# Neural Network"
   ]
  },
  {
   "cell_type": "code",
   "execution_count": 35,
   "metadata": {},
   "outputs": [
    {
     "name": "stdout",
     "output_type": "stream",
     "text": [
      "WARNING:tensorflow:From D:\\javeed\\DS documents\\anaconda install\\lib\\site-packages\\keras\\backend\\tensorflow_backend.py:422: The name tf.global_variables is deprecated. Please use tf.compat.v1.global_variables instead.\n",
      "\n",
      "Train on 668706 samples, validate on 329364 samples\n",
      "Epoch 1/5\n",
      "668706/668706 [==============================] - 136s 204us/step - loss: 0.0763 - accuracy: 0.8318 - val_loss: 0.0523 - val_accuracy: 0.8624\n",
      "Epoch 2/5\n",
      "668706/668706 [==============================] - 138s 207us/step - loss: 0.0372 - accuracy: 0.8868 - val_loss: 0.0332 - val_accuracy: 0.8957\n",
      "Epoch 3/5\n",
      "668706/668706 [==============================] - 128s 191us/step - loss: 0.0251 - accuracy: 0.9073 - val_loss: 0.0221 - val_accuracy: 0.9158\n",
      "Epoch 4/5\n",
      "668706/668706 [==============================] - 127s 189us/step - loss: 0.0194 - accuracy: 0.9190 - val_loss: 0.0177 - val_accuracy: 0.9197\n",
      "Epoch 5/5\n",
      "668706/668706 [==============================] - 146s 218us/step - loss: 0.0159 - accuracy: 0.9269 - val_loss: 0.0140 - val_accuracy: 0.9317\n"
     ]
    },
    {
     "data": {
      "text/plain": [
       "<keras.callbacks.callbacks.History at 0x1e83daf15c0>"
      ]
     },
     "execution_count": 35,
     "metadata": {},
     "output_type": "execute_result"
    }
   ],
   "source": [
    "from keras.layers import ELU\n",
    "from keras.layers import Dropout\n",
    "from keras.optimizers import Adadelta,Adagrad,RMSprop,Adam,Adamax,Nadam\n",
    "model3 = Sequential()\n",
    "model3.add(Dense(500,input_shape=(10,)))\n",
    "model3.add(ELU())\n",
    "model3.add(Dense(400))\n",
    "model3.add(ELU())\n",
    "model3.add(Dense(300))\n",
    "model3.add(ELU())\n",
    "model3.add(Dense(200))\n",
    "model3.add(ELU())\n",
    "model3.add(Dense(100))\n",
    "model3.add(ELU())\n",
    "model3.add(Dense(2))\n",
    "import keras\n",
    "adam1 =Nadam(learning_rate=0.001, beta_1=0.9, beta_2=0.99)\n",
    "model3.compile(loss='mean_squared_error', optimizer= adam1, metrics= ['accuracy'])\n",
    "model3.fit(train_x, train_y, epochs=5, batch_size=115, validation_data=(test_x, test_y))"
   ]
  },
  {
   "cell_type": "code",
   "execution_count": 214,
   "metadata": {},
   "outputs": [],
   "source": [
    "nn100_train_pred = model3.predict(train_x)\n",
    "nn100_test_pred = model3.predict(test_x)"
   ]
  },
  {
   "cell_type": "code",
   "execution_count": 215,
   "metadata": {},
   "outputs": [],
   "source": [
    "nn100_train_RMSE=np.mean((nn100_train_pred - train_y)**2, axis=0)\n",
    "nn100_train_RMSE = np.sqrt(nn100_train_RMSE)\n",
    "#stator_yoke    0.053246\n",
    "#pm             0.406511\n",
    "nn100_test_RMSE=np.mean((nn100_test_pred - test_y)**2, axis=0)\n",
    "nn100_test_RMSE= np.sqrt(nn100_test_RMSE)\n",
    "from sklearn.metrics import r2_score\n",
    "nn100_train_R2 = r2_score(train_y, nn100_train_pred)#0.9553449358644539\n",
    "nn100_test_R2 = r2_score(test_y, nn100_test_pred)#0.9552267680020445"
   ]
  },
  {
   "cell_type": "code",
   "execution_count": 216,
   "metadata": {},
   "outputs": [],
   "source": [
    "nn100_train = nn100_train_RMSE\n",
    "nn100_train_R2 = pd.Series(nn100_train_R2)\n",
    "nn100_train = nn100_train.append(nn100_train_R2)\n",
    "nn100_train = pd.DataFrame(nn100_train)\n",
    "nn_train=nn100_train.rename(columns={0: 'nn100_train'})\n",
    "\n",
    "nn100_test = nn100_test_RMSE\n",
    "nn100_test_R2 = pd.Series(nn100_test_R2)\n",
    "nn100_test = nn100_test.append(nn100_test_R2)\n",
    "nn100_test = pd.DataFrame(nn100_test)\n",
    "nn_test=nn100_test.rename(columns={0: 'nn100_test'})"
   ]
  },
  {
   "cell_type": "markdown",
   "metadata": {},
   "source": [
    "# XGBRegressor"
   ]
  },
  {
   "cell_type": "code",
   "execution_count": 55,
   "metadata": {},
   "outputs": [
    {
     "name": "stdout",
     "output_type": "stream",
     "text": [
      "[15:11:32] WARNING: C:/Jenkins/workspace/xgboost-win64_release_0.90/src/objective/regression_obj.cu:152: reg:linear is now deprecated in favor of reg:squarederror.\n",
      "[15:13:55] WARNING: C:/Jenkins/workspace/xgboost-win64_release_0.90/src/objective/regression_obj.cu:152: reg:linear is now deprecated in favor of reg:squarederror.\n"
     ]
    }
   ],
   "source": [
    "import numpy as np\n",
    "import pandas as pd\n",
    "from sklearn import preprocessing\n",
    "import xgboost as xgb\n",
    "from xgboost.sklearn import XGBRegressor\n",
    "import datetime\n",
    "from sklearn.model_selection import GridSearchCV\n",
    "from sklearn.multioutput import MultiOutputRegressor\n",
    "xgb_multioutputregressor = MultiOutputRegressor(xgb.XGBRegressor()).fit(train_x, train_y)\n",
    "xgb_train_RMSE=np.mean((xgb_multioutputregressor.predict(train_x) - train_y)**2, axis=0)\n",
    "xgb_test_RMSE=np.mean((xgb_multioutputregressor.predict(test_x) - test_y)**2, axis=0)\n",
    "xgb_train_RMSE = np.sqrt(xgb_train_RMSE)\n",
    "#stator_yoke    0.062031\n",
    "#pm             0.401400\n",
    "xgb_test_RMSE = np.sqrt(xgb_test_RMSE)\n",
    "#stator_yoke    0.062406\n",
    "#pm             0.400764\n",
    "from sklearn.metrics import r2_score\n",
    "xgb_train_pred = xgb_multioutputregressor.predict(train_x)\n",
    "xgb_test_pred = xgb_multioutputregressor.predict(test_x)\n",
    "xgb_train_R2 = r2_score(train_y, xgb_train_pred)#0.9169291776206683\n",
    "xgb_test_R2 = r2_score(test_y, xgb_test_pred)#0.916830099751504\n",
    "\n",
    "xgb_train_score = xgb_multioutputregressor.score(train_x,train_y)\n",
    "xgb_test_score = xgb_multioutputregressor.score(test_x,test_y)\n",
    "xgb_train_RMSE=np.mean((xgb_multioutputregressor.predict(train_x) - train_y)**2, axis=0)\n",
    "xgb_test_RMSE=np.mean((xgb_multioutputregressor.predict(test_x) - test_y)**2, axis=0)\n",
    "xgb_train_RMSE = np.sqrt(xgb_train_RMSE)"
   ]
  },
  {
   "cell_type": "code",
   "execution_count": 120,
   "metadata": {},
   "outputs": [],
   "source": [
    "xgb_train = xgb_train_RMSE\n",
    "xgb_train_R2 = pd.Series(xgb_train_R2)\n",
    "xgb_train = xgb_train.append(xgb_train_R2)\n",
    "xgb_train = pd.DataFrame(xgb_train)\n",
    "xgb_train=xgb_train.rename(columns={0: 'xgb_train'})\n",
    "\n",
    "xgb_test = xgb_test_RMSE\n",
    "xgb_test_R2 = pd.Series(xgb_test_R2)\n",
    "xgb_test =xgb_test.append(xgb_test_R2)\n",
    "xgb_test = pd.DataFrame(xgb_test)\n",
    "xgb_test=xgb_test.rename(columns={0: 'xgb_test'})"
   ]
  },
  {
   "cell_type": "markdown",
   "metadata": {},
   "source": [
    "# LGBM"
   ]
  },
  {
   "cell_type": "code",
   "execution_count": 17,
   "metadata": {},
   "outputs": [],
   "source": [
    "from sklearn.multioutput import MultiOutputRegressor\n",
    "import matplotlib.pyplot as plt\n",
    "import lightgbm as lgb #conda install lightgbm\n",
    "from sklearn.metrics import (roc_curve, auc, accuracy_score)\n",
    "from sklearn.model_selection import GridSearchCV\n",
    "lgb_multioutput = MultiOutputRegressor(lgb.LGBMRegressor(learning_rate=0.05,max_depth=7,n_jobs=1,n_estimators=1000,nthread=-1))\n",
    "lgb_multioutput.fit(train_x, train_y)\n",
    "lgb_train_RMSE=np.mean((lgb_multioutput.predict(train_x) - train_y)**2, axis=0)\n",
    "lgb_train_RMSE = np.sqrt(lgb_train_RMSE)\n",
    "#stator_yoke    0.026573\n",
    "#pm             0.164039\n",
    "lgb_test_RMSE=np.mean((lgb_multioutput.predict(test_x) - test_y)**2, axis=0)\n",
    "lgb_test_RMSE= np.sqrt(lgb_test_RMSE)\n",
    "#stator_yoke    0.027163\n",
    "#pm             0.166146\n",
    "from sklearn.metrics import r2_score\n",
    "lgb_train_pred = lgb_multioutput.predict(train_x)\n",
    "lgb_test_pred = lgb_multioutput.predict(test_x)\n",
    "lgb_train_R2 = r2_score(train_y, lgb_train_pred)#0.9861326172294375\n",
    "lgb_test_R2 = r2_score(test_y, lgb_test_pred)#0.985719127660748\n",
    "\n",
    "lgb_train_score = lgb_multioutput.score(train_x,train_y)\n",
    "lgb_test_score =lgb_multioutput.score(test_x,test_y)"
   ]
  },
  {
   "cell_type": "code",
   "execution_count": 61,
   "metadata": {},
   "outputs": [],
   "source": [
    "lgb_train = lgb_train_RMSE\n",
    "a = np.float64(lgb_train_R2)\n",
    "a = pd.Series(a)\n",
    "lgb_train = lgb_train.append(a)\n",
    "lgb_train = pd.DataFrame(lgb_train)\n",
    "lgb_train=lgb_train.rename(columns={0: 'lgb_train'})\n",
    "\n",
    "lgb_test= lgb_test_RMSE\n",
    "lgb_test_R2 = pd.Series(lgb_test_R2)\n",
    "lgb_test = lgb_test.append(lgb_test_R2)\n",
    "lgb_test= pd.DataFrame(lgb_test)\n",
    "lgb_test=lgb_test.rename(columns={0: 'lgb_test'})"
   ]
  },
  {
   "cell_type": "markdown",
   "metadata": {},
   "source": [
    "# polynomial with 2 degree"
   ]
  },
  {
   "cell_type": "code",
   "execution_count": 211,
   "metadata": {},
   "outputs": [
    {
     "name": "stdout",
     "output_type": "stream",
     "text": [
      "Polynomial Linear Regression: 0.9115021337511484\n"
     ]
    }
   ],
   "source": [
    "from sklearn.linear_model import LinearRegression\n",
    "from sklearn.model_selection import train_test_split \n",
    "from sklearn.preprocessing import PolynomialFeatures \n",
    "from sklearn.metrics import r2_score,mean_squared_error\n",
    "quad = PolynomialFeatures (degree = 2) \n",
    "train_quad = quad.fit_transform(train_x)\n",
    "test_quad=quad.fit_transform(test_x)\n",
    "plr = MultiOutputRegressor(LinearRegression()).fit(train_quad,train_y)\n",
    "Y_train_pred = plr.predict(train_quad) \n",
    "Y_test_pred = plr.predict(test_quad)\n",
    "print('Polynomial Linear Regression:' ,plr.score(test_quad,test_y))#0.9116422853434928\n",
    "poly_R2 =plr.score(test_quad,test_y)\n",
    "#RMSE\n",
    "poly_Train_RMSE = np.sqrt(mean_squared_error(train_y,Y_train_pred))#0.29693444794659535\n",
    "poly_Test_RMSE = np.sqrt(mean_squared_error(test_y,Y_test_pred))#0.29665945037595576\n",
    "#R2\n",
    "poly_train_R2 = r2_score(train_y, Y_train_pred)#0.9111167243895444\n",
    "poly_test_R2 = r2_score(test_y, Y_test_pred)#0.911157317010483"
   ]
  },
  {
   "cell_type": "code",
   "execution_count": 212,
   "metadata": {},
   "outputs": [
    {
     "data": {
      "text/html": [
       "<div>\n",
       "<style scoped>\n",
       "    .dataframe tbody tr th:only-of-type {\n",
       "        vertical-align: middle;\n",
       "    }\n",
       "\n",
       "    .dataframe tbody tr th {\n",
       "        vertical-align: top;\n",
       "    }\n",
       "\n",
       "    .dataframe thead th {\n",
       "        text-align: right;\n",
       "    }\n",
       "</style>\n",
       "<table border=\"1\" class=\"dataframe\">\n",
       "  <thead>\n",
       "    <tr style=\"text-align: right;\">\n",
       "      <th></th>\n",
       "      <th>poly_train</th>\n",
       "    </tr>\n",
       "  </thead>\n",
       "  <tbody>\n",
       "    <tr>\n",
       "      <th>stator_yoke</th>\n",
       "      <td>0.297187</td>\n",
       "    </tr>\n",
       "    <tr>\n",
       "      <th>0</th>\n",
       "      <td>0.910940</td>\n",
       "    </tr>\n",
       "  </tbody>\n",
       "</table>\n",
       "</div>"
      ],
      "text/plain": [
       "             poly_train\n",
       "stator_yoke    0.297187\n",
       "0              0.910940"
      ]
     },
     "execution_count": 212,
     "metadata": {},
     "output_type": "execute_result"
    }
   ],
   "source": [
    "poly_test = {'poly_test':[poly_Test_RMSE,poly_test_R2 ]}\n",
    "poly_test =pd.DataFrame(poly_test)\n",
    "poly_test=poly_test.rename(index={0:\"stator_yoke\", 1: 0})\n",
    "poly_test \n",
    "\n",
    "poly_train = {'poly_train':[poly_Train_RMSE,poly_train_R2 ]}\n",
    "poly_train =pd.DataFrame(poly_train)\n",
    "poly_train=poly_train.rename(index={0:\"stator_yoke\", 1 : 0})\n",
    "poly_train "
   ]
  },
  {
   "cell_type": "markdown",
   "metadata": {},
   "source": [
    "# AdaBoostRegressor"
   ]
  },
  {
   "cell_type": "code",
   "execution_count": 19,
   "metadata": {},
   "outputs": [],
   "source": [
    "from sklearn.ensemble import AdaBoostRegressor\n",
    "from sklearn.multioutput import MultiOutputRegressor\n",
    "#ada_multioutput = MultiOutputRegressor(AdaBoostRegressor(learning_rate=0.01, n_estimators=200))\n",
    "ada_multioutput = MultiOutputRegressor(AdaBoostRegressor())\n",
    "ada_multioutput.fit(train_x, train_y)\n",
    "ada_train_RMSE=np.mean((ada_multioutput.predict(train_x) - train_y)**2, axis=0)\n",
    "ada_train_RMSE = np.sqrt(ada_train_RMSE)\n",
    "ada_test_RMSE=np.mean((ada_multioutput.predict(test_x) - test_y)**2, axis=0)\n",
    "ada_test_RMSE= np.sqrt(ada_test_RMSE)\n",
    "from sklearn.metrics import r2_score\n",
    "ada_train_pred = ada_multioutput.predict(train_x)\n",
    "ada_test_pred = ada_multioutput.predict(test_x)\n",
    "ada_train_R2 = r2_score(train_y, ada_train_pred)#0.8376333232840278\n",
    "ada_test_R2 = r2_score(test_y, ada_test_pred)#0.8376362009220268\n",
    "\n",
    "ada_train_score = ada_multioutput.score(train_x,train_y)#0.8321852774400107\n",
    "ada_test_score =ada_multioutput.score(test_x,test_y)#0.8319736250251978"
   ]
  },
  {
   "cell_type": "code",
   "execution_count": 46,
   "metadata": {},
   "outputs": [],
   "source": [
    "ada_train = ada_train_RMSE\n",
    "ada_train_R2 = pd.Series(ada_train_R2)\n",
    "ada_train = ada_train.append(ada_train_R2)\n",
    "ada_train = pd.DataFrame(ada_train)\n",
    "ada_train=ada_train.rename(columns={0: 'ada_train'})\n",
    "\n",
    "ada_test = ada_test_RMSE\n",
    "ada_test_R2 = pd.Series(ada_test_R2)\n",
    "ada_test =ada_test.append(ada_test_R2)\n",
    "ada_test = pd.DataFrame(ada_test)\n",
    "ada_test=ada_test.rename(columns={0: 'ada_test'})"
   ]
  },
  {
   "cell_type": "code",
   "execution_count": 24,
   "metadata": {},
   "outputs": [
    {
     "data": {
      "text/plain": [
       "0.8321852774400107"
      ]
     },
     "execution_count": 24,
     "metadata": {},
     "output_type": "execute_result"
    }
   ],
   "source": [
    "ada_train_score"
   ]
  },
  {
   "cell_type": "markdown",
   "metadata": {},
   "source": [
    "# RandomForestRegressor"
   ]
  },
  {
   "cell_type": "code",
   "execution_count": 20,
   "metadata": {},
   "outputs": [
    {
     "name": "stderr",
     "output_type": "stream",
     "text": [
      "D:\\javeed\\DS documents\\anaconda install\\lib\\site-packages\\sklearn\\ensemble\\forest.py:246: FutureWarning: The default value of n_estimators will change from 10 in version 0.20 to 100 in 0.22.\n",
      "  \"10 in version 0.20 to 100 in 0.22.\", FutureWarning)\n",
      "D:\\javeed\\DS documents\\anaconda install\\lib\\site-packages\\sklearn\\ensemble\\forest.py:246: FutureWarning: The default value of n_estimators will change from 10 in version 0.20 to 100 in 0.22.\n",
      "  \"10 in version 0.20 to 100 in 0.22.\", FutureWarning)\n"
     ]
    }
   ],
   "source": [
    "from sklearn import ensemble\n",
    "from sklearn.multioutput import MultiOutputRegressor\n",
    "import matplotlib.pyplot as plt\n",
    "import lightgbm as lgb #conda install lightgbm\n",
    "from sklearn.metrics import (roc_curve, auc, accuracy_score)\n",
    "from sklearn.model_selection import GridSearchCV\n",
    "#rf_multioutput = MultiOutputRegressor(ensemble.RandomForestRegressor(n_estimators=500, n_jobs=1, verbose=1))\n",
    "rf_multioutput = MultiOutputRegressor(ensemble.RandomForestRegressor())\n",
    "#lgb_multioutput = MultiOutputRegressor(lgb.LGBMRegressor(learning_rate=0.05,max_depth=7,n_jobs=1,n_estimators=1000,nthread=-1))\n",
    "rf_multioutput.fit(train_x, train_y)\n",
    "rf_train_RMSE=np.mean((rf_multioutput.predict(train_x) - train_y)**2, axis=0)\n",
    "rf_train_RMSE = np.sqrt(rf_train_RMSE)\n",
    "rf_test_RMSE=np.mean((rf_multioutput.predict(test_x) - test_y)**2, axis=0)\n",
    "rf_test_RMSE= np.sqrt(rf_test_RMSE)\n",
    "from sklearn.metrics import r2_score\n",
    "rf_train_pred = rf_multioutput.predict(train_x)\n",
    "rf_test_pred = rf_multioutput.predict(test_x)\n",
    "rf_train_R2 = r2_score(train_y, rf_train_pred)#0.9997814045437312\n",
    "rf_test_R2 = r2_score(test_y, rf_test_pred)#0.9990043465338014\n",
    "\n",
    "rf_train_score = rf_multioutput.score(train_x,train_y)#0.9997838183035852\n",
    "rf_test_score =rf_multioutput.score(test_x,test_y)#0.9989816978585642"
   ]
  },
  {
   "cell_type": "code",
   "execution_count": 47,
   "metadata": {},
   "outputs": [],
   "source": [
    "rf_train = rf_train_RMSE\n",
    "rf_train_R2 = pd.Series(rf_train_R2)\n",
    "rf_train = rf_train.append(rf_train_R2)\n",
    "rf_train = pd.DataFrame(rf_train)\n",
    "rf_train=rf_train.rename(columns={0: 'rf_train'})\n",
    "\n",
    "rf_test = rf_test_RMSE\n",
    "rf_test_R2 = pd.Series(rf_test_R2)\n",
    "rf_test =rf_test.append(rf_test_R2)\n",
    "rf_test = pd.DataFrame(rf_test)\n",
    "rf_test=rf_test.rename(columns={0: 'rf_test'})"
   ]
  },
  {
   "cell_type": "markdown",
   "metadata": {},
   "source": [
    "# with profile_id"
   ]
  },
  {
   "cell_type": "code",
   "execution_count": 53,
   "metadata": {},
   "outputs": [
    {
     "name": "stdout",
     "output_type": "stream",
     "text": [
      "[15:05:23] WARNING: C:/Jenkins/workspace/xgboost-win64_release_0.90/src/objective/regression_obj.cu:152: reg:linear is now deprecated in favor of reg:squarederror.\n",
      "[15:08:05] WARNING: C:/Jenkins/workspace/xgboost-win64_release_0.90/src/objective/regression_obj.cu:152: reg:linear is now deprecated in favor of reg:squarederror.\n"
     ]
    }
   ],
   "source": [
    "X= data.drop(['stator_yoke','pm'], axis = 1)\n",
    "Y = data[['stator_yoke','pm']]\n",
    "x_train,x_test,y_train,y_test  = train_test_split(X,Y, test_size = 0.33, stratify=data.profile_id)\n",
    "import numpy as np\n",
    "import pandas as pd\n",
    "from sklearn import preprocessing\n",
    "import xgboost as xgb\n",
    "from xgboost.sklearn import XGBRegressor\n",
    "import datetime\n",
    "from sklearn.model_selection import GridSearchCV\n",
    "from sklearn.multioutput import MultiOutputRegressor\n",
    "p_xgb_multioutputregressor = MultiOutputRegressor(xgb.XGBRegressor()).fit(x_train, y_train)\n",
    "p_xgb_train_RMSE=np.mean((p_xgb_multioutputregressor.predict(x_train) - y_train)**2, axis=0)\n",
    "p_xgb_test_RMSE=np.mean((p_xgb_multioutputregressor.predict(x_test) - y_test)**2, axis=0)\n",
    "p_xgb_train_RMSE = np.sqrt(p_xgb_train_RMSE)\n",
    "#stator_yoke    0.062031\n",
    "#pm             0.401400\n",
    "p_xgb_test_RMSE = np.sqrt(p_xgb_test_RMSE)\n",
    "#stator_yoke    0.062406\n",
    "#pm             0.400764\n",
    "from sklearn.metrics import r2_score\n",
    "p_xgb_train_pred = p_xgb_multioutputregressor.predict(x_train)\n",
    "p_xgb_test_pred = p_xgb_multioutputregressor.predict(x_test)\n",
    "p_xgb_train_R2 = r2_score(y_train, p_xgb_train_pred)#0.9169291776206683\n",
    "p_xgb_test_R2 = r2_score(y_test, p_xgb_test_pred)#0.916830099751504\n"
   ]
  },
  {
   "cell_type": "code",
   "execution_count": 54,
   "metadata": {},
   "outputs": [],
   "source": [
    "p_xgb_train = p_xgb_train_RMSE\n",
    "p_xgb_train_R2 = pd.Series(p_xgb_train_R2)\n",
    "p_xgb_train = p_xgb_train.append(p_xgb_train_R2)\n",
    "p_xgb_train = pd.DataFrame(p_xgb_train)\n",
    "p_xgb_train=p_xgb_train.rename(columns={0: 'p_xgb_train'})\n",
    "\n",
    "p_xgb_test = p_xgb_test_RMSE\n",
    "p_xgb_test_R2 = pd.Series(p_xgb_test_R2)\n",
    "p_xgb_test =p_xgb_test.append(p_xgb_test_R2)\n",
    "p_xgb_test = pd.DataFrame(p_xgb_test)\n",
    "p_xgb_test=p_xgb_test.rename(columns={0: 'p_xgb_test'})"
   ]
  },
  {
   "cell_type": "markdown",
   "metadata": {},
   "source": [
    "# LGBMRegressor"
   ]
  },
  {
   "cell_type": "code",
   "execution_count": 28,
   "metadata": {},
   "outputs": [],
   "source": [
    "from sklearn.multioutput import MultiOutputRegressor\n",
    "import matplotlib.pyplot as plt\n",
    "import lightgbm as p_lgb #conda install lightgbm\n",
    "from sklearn.metrics import (roc_curve, auc, accuracy_score)\n",
    "from sklearn.model_selection import GridSearchCV\n",
    "p_lgb_multioutput = MultiOutputRegressor(p_lgb.LGBMRegressor(learning_rate=0.05,max_depth=7,n_jobs=1,n_estimators=1000,nthread=-1))\n",
    "p_lgb_multioutput.fit(x_train, y_train)\n",
    "p_lgb_train_RMSE=np.mean((p_lgb_multioutput.predict(x_train) - y_train)**2, axis=0)\n",
    "p_lgb_train_RMSE = np.sqrt(p_lgb_train_RMSE)\n",
    "#stator_yoke    0.025517\n",
    "#pm             0.115780\n",
    "p_lgb_test_RMSE=np.mean((p_lgb_multioutput.predict(x_test) - y_test)**2, axis=0)\n",
    "p_lgb_test_RMSE= np.sqrt(p_lgb_test_RMSE)\n",
    "#stator_yoke    0.025978\n",
    "#pm             0.117266\n",
    "from sklearn.metrics import r2_score\n",
    "p_lgb_train_pred = p_lgb_multioutput.predict(x_train)\n",
    "p_lgb_test_pred = p_lgb_multioutput.predict(x_test)\n",
    "p_lgb_train_R2 = r2_score(y_train, p_lgb_train_pred)#00.9929160367267138\n",
    "p_lgb_test_R2 = r2_score(y_test, p_lgb_test_pred)#0.9927245780698586\n",
    "p_lgb_train_score= p_lgb_multioutput.score(x_train,y_train)#0.9929160367267138\n",
    "p_lgb_test_score =p_lgb_multioutput.score(x_test,y_test)#0.9927245780698586"
   ]
  },
  {
   "cell_type": "code",
   "execution_count": 64,
   "metadata": {},
   "outputs": [],
   "source": [
    "p_lgb_train = p_lgb_train_RMSE\n",
    "a = np.float64(p_lgb_train_R2)\n",
    "a = pd.Series(a)\n",
    "p_lgb_train = p_lgb_train.append(a)\n",
    "p_lgb_train = pd.DataFrame(p_lgb_train)\n",
    "p_lgb_train=p_lgb_train.rename(columns={0: 'p_lgb_train'})\n",
    "\n",
    "p_lgb_test= p_lgb_test_RMSE\n",
    "p_lgb_test_R2 = pd.Series(p_lgb_test_R2)\n",
    "p_lgb_test = p_lgb_test.append(p_lgb_test_R2)\n",
    "p_lgb_test = pd.DataFrame(p_lgb_test)\n",
    "p_lgb_test=p_lgb_test.rename(columns={0: 'p_lgb_test'})\n"
   ]
  },
  {
   "cell_type": "markdown",
   "metadata": {},
   "source": [
    "# polynomialFeatures"
   ]
  },
  {
   "cell_type": "code",
   "execution_count": null,
   "metadata": {},
   "outputs": [],
   "source": [
    "from sklearn.linear_model import LinearRegression\n",
    "from sklearn.model_selection import train_test_split \n",
    "from sklearn.preprocessing import polynomialFeatures \n",
    "from sklearn.metrics import r2_score,mean_squared_error\n",
    "quad = polynomialFeatures (degree = 2) \n",
    "train_quad = quad.fit_transform(x_train)\n",
    "test_quad=quad.fit_transform(x_test)\n",
    "plr = MultiOutputRegressor(LinearRegression().fit(train_quad,y_train))\n",
    "Y_train_pred = plr.predict(train_quad) \n",
    "Y_test_pred = plr.predict(test_quad)\n",
    "print('P_polynomial Linear Regression:' ,plr.score(test_quad,y_test))#0.9116422853434928\n",
    "p_poly_R2 =plr.score(test_quad,y_test)\n",
    "#RMSE\n",
    "p_poly_Train_RMSE = np.sqrt(mean_squared_error(y_train,Y_train_pred))#0.29693444794659535\n",
    "p_poly_Test_RMSE = np.sqrt(mean_squared_error(y_test,Y_test_pred))#0.29665945037595576\n",
    "#R2\n",
    "p_poly_train_R2 = r2_score(y_train, Y_train_pred)#0.9111167243895444\n",
    "p_poly_test_R2 = r2_score(y_test, Y_test_pred)#0.911157317010483\n"
   ]
  },
  {
   "cell_type": "code",
   "execution_count": 187,
   "metadata": {},
   "outputs": [
    {
     "data": {
      "text/html": [
       "<div>\n",
       "<style scoped>\n",
       "    .dataframe tbody tr th:only-of-type {\n",
       "        vertical-align: middle;\n",
       "    }\n",
       "\n",
       "    .dataframe tbody tr th {\n",
       "        vertical-align: top;\n",
       "    }\n",
       "\n",
       "    .dataframe thead th {\n",
       "        text-align: right;\n",
       "    }\n",
       "</style>\n",
       "<table border=\"1\" class=\"dataframe\">\n",
       "  <thead>\n",
       "    <tr style=\"text-align: right;\">\n",
       "      <th></th>\n",
       "      <th>p_poly_train</th>\n",
       "    </tr>\n",
       "  </thead>\n",
       "  <tbody>\n",
       "    <tr>\n",
       "      <th>stator_yoke</th>\n",
       "      <td>0.292664</td>\n",
       "    </tr>\n",
       "    <tr>\n",
       "      <th>0</th>\n",
       "      <td>0.913636</td>\n",
       "    </tr>\n",
       "  </tbody>\n",
       "</table>\n",
       "</div>"
      ],
      "text/plain": [
       "             p_poly_train\n",
       "stator_yoke      0.292664\n",
       "0                0.913636"
      ]
     },
     "execution_count": 187,
     "metadata": {},
     "output_type": "execute_result"
    }
   ],
   "source": [
    "p_poly_test = {'p_poly_test':[p_poly_Test_RMSE,p_poly_test_R2 ]}\n",
    "p_poly_test =pd.DataFrame(p_poly_test)\n",
    "p_poly_test=p_poly_test.rename(index={0:\"stator_yoke\", 1: 0}) \n",
    "\n",
    "p_poly_train = {'p_poly_train':[p_poly_Train_RMSE,p_poly_train_R2 ]}\n",
    "p_poly_train =pd.DataFrame(p_poly_train)\n",
    "p_poly_train=p_poly_train.rename(index={0:\"stator_yoke\", 1 : 0})"
   ]
  },
  {
   "cell_type": "markdown",
   "metadata": {},
   "source": [
    "# AdaBoostRegressor"
   ]
  },
  {
   "cell_type": "code",
   "execution_count": 31,
   "metadata": {},
   "outputs": [],
   "source": [
    "from sklearn.ensemble import AdaBoostRegressor\n",
    "from sklearn.multioutput import MultiOutputRegressor\n",
    "#p_ada_multioutput = MultiOutputRegressor(P_adaBoostRegressor(learning_rate=0.01, n_estimators=200))\n",
    "p_ada_multioutput = MultiOutputRegressor(AdaBoostRegressor())\n",
    "p_ada_multioutput.fit(x_train, y_train)\n",
    "p_ada_train_RMSE=np.mean((p_ada_multioutput.predict(x_train) - y_train)**2, axis=0)\n",
    "p_ada_train_RMSE = np.sqrt(p_ada_train_RMSE)\n",
    "#stator_yoke    0.150531\n",
    "#pm             0.548006\n",
    "p_ada_test_RMSE=np.mean((p_ada_multioutput.predict(x_test) - y_test)**2, axis=0)\n",
    "p_ada_test_RMSE= np.sqrt(p_ada_test_RMSE)\n",
    "#stator_yoke    0.150474\n",
    "#pm             0.547884\n",
    "from sklearn.metrics import r2_score\n",
    "p_ada_train_pred = p_ada_multioutput.predict(x_train)\n",
    "p_ada_test_pred = p_ada_multioutput.predict(x_test)\n",
    "p_ada_train_R2 = r2_score(y_train, p_ada_train_pred)#0.8372726936873622\n",
    "p_ada_test_R2 = r2_score(y_test, p_ada_test_pred)#0.8372322396789236\n",
    "\n",
    "p_ada_train_score= p_ada_multioutput.score(x_train,y_train)#0.9929160367267138\n",
    "p_ada_test_score =p_ada_multioutput.score(x_test,y_test)"
   ]
  },
  {
   "cell_type": "markdown",
   "metadata": {},
   "source": [
    "# RandomForestRegressor"
   ]
  },
  {
   "cell_type": "code",
   "execution_count": 32,
   "metadata": {},
   "outputs": [
    {
     "name": "stderr",
     "output_type": "stream",
     "text": [
      "D:\\javeed\\DS documents\\anaconda install\\lib\\site-packages\\sklearn\\ensemble\\forest.py:246: FutureWarning: The default value of n_estimators will change from 10 in version 0.20 to 100 in 0.22.\n",
      "  \"10 in version 0.20 to 100 in 0.22.\", FutureWarning)\n",
      "D:\\javeed\\DS documents\\anaconda install\\lib\\site-packages\\sklearn\\ensemble\\forest.py:246: FutureWarning: The default value of n_estimators will change from 10 in version 0.20 to 100 in 0.22.\n",
      "  \"10 in version 0.20 to 100 in 0.22.\", FutureWarning)\n"
     ]
    }
   ],
   "source": [
    "from sklearn import ensemble\n",
    "from sklearn.multioutput import MultiOutputRegressor\n",
    "import matplotlib.pyplot as plt\n",
    "import lightgbm as lgb #conda install lightgbm\n",
    "from sklearn.metrics import (roc_curve, auc, accuracy_score)\n",
    "from sklearn.model_selection import GridSearchCV\n",
    "#p_rf_multioutput = MultiOutputRegressor(ensemble.RandomForestRegressor(n_estimators=500, n_jobs=1, verbose=1))\n",
    "p_rf_multioutput = MultiOutputRegressor(ensemble.RandomForestRegressor())\n",
    "#lgb_multioutput = MultiOutputRegressor(lgb.LGBMRegressor(learning_rate=0.05,max_depth=7,n_jobs=1,n_estimators=1000,nthread=-1))\n",
    "p_rf_multioutput.fit(x_train, y_train)\n",
    "p_rf_train_RMSE=np.mean((p_rf_multioutput.predict(x_train) - y_train)**2, axis=0)\n",
    "p_rf_train_RMSE = np.sqrt(p_rf_train_RMSE)\n",
    "p_rf_test_RMSE=np.mean((p_rf_multioutput.predict(x_test) - y_test)**2, axis=0)\n",
    "p_rf_test_RMSE= np.sqrt(p_rf_test_RMSE)\n",
    "from sklearn.metrics import r2_score\n",
    "p_rf_train_pred = p_rf_multioutput.predict(x_train)\n",
    "p_rf_test_pred = p_rf_multioutput.predict(x_test)\n",
    "p_rf_train_R2 = r2_score(y_train, p_rf_train_pred)#0.9997814045437312\n",
    "p_rf_test_R2 = r2_score(y_test, p_rf_test_pred)#0.9990043465338014\n",
    " \n",
    "p_rf_train_score= p_rf_multioutput.score(x_train,y_train)#0.9929160367267138\n",
    "p_rf_test_score =p_rf_multioutput.score(x_test,y_test)"
   ]
  },
  {
   "cell_type": "code",
   "execution_count": 50,
   "metadata": {},
   "outputs": [],
   "source": [
    "p_rf_train = p_rf_train_RMSE\n",
    "p_rf_train_R2 = pd.Series(p_rf_train_R2)\n",
    "p_rf_train = p_rf_train.append(p_rf_train_R2)\n",
    "p_rf_train = pd.DataFrame(p_rf_train)\n",
    "p_rf_train=p_rf_train.rename(columns={0: 'p_rf_train'})\n",
    "\n",
    "p_rf_test = p_rf_test_RMSE\n",
    "p_rf_test_R2 = pd.Series(p_rf_test_R2)\n",
    "p_rf_test =p_rf_test.append(p_rf_test_R2)\n",
    "p_rf_test = pd.DataFrame(p_rf_test)\n",
    "p_rf_test=p_rf_test.rename(columns={0: 'p_rf_test'})\n"
   ]
  },
  {
   "cell_type": "code",
   "execution_count": 74,
   "metadata": {},
   "outputs": [],
   "source": [
    "q=data.loc[(data['profile_id']==20) & (data['profile_id'] ==6)]"
   ]
  },
  {
   "cell_type": "code",
   "execution_count": 219,
   "metadata": {},
   "outputs": [
    {
     "data": {
      "text/html": [
       "<div>\n",
       "<style scoped>\n",
       "    .dataframe tbody tr th:only-of-type {\n",
       "        vertical-align: middle;\n",
       "    }\n",
       "\n",
       "    .dataframe tbody tr th {\n",
       "        vertical-align: top;\n",
       "    }\n",
       "\n",
       "    .dataframe thead th {\n",
       "        text-align: right;\n",
       "    }\n",
       "</style>\n",
       "<table border=\"1\" class=\"dataframe\">\n",
       "  <thead>\n",
       "    <tr style=\"text-align: right;\">\n",
       "      <th></th>\n",
       "      <th>poly_test</th>\n",
       "      <th>poly_train</th>\n",
       "      <th>xgb_train</th>\n",
       "      <th>xgb_test</th>\n",
       "      <th>lgb_train</th>\n",
       "      <th>lgb_test</th>\n",
       "      <th>ada_train</th>\n",
       "      <th>ada_test</th>\n",
       "      <th>rf_train</th>\n",
       "      <th>rf_test</th>\n",
       "      <th>...</th>\n",
       "      <th>p_xgb_train</th>\n",
       "      <th>p_xgb_test</th>\n",
       "      <th>p_lgb_train</th>\n",
       "      <th>p_lgb_test</th>\n",
       "      <th>p_ada_train</th>\n",
       "      <th>p_ada_test</th>\n",
       "      <th>p_rf_train</th>\n",
       "      <th>p_rf_test</th>\n",
       "      <th>nn100_train</th>\n",
       "      <th>nn100_test</th>\n",
       "    </tr>\n",
       "  </thead>\n",
       "  <tbody>\n",
       "    <tr>\n",
       "      <th>stator_yoke RMSE</th>\n",
       "      <td>0.296172</td>\n",
       "      <td>0.297187</td>\n",
       "      <td>0.060909</td>\n",
       "      <td>0.003707</td>\n",
       "      <td>0.026721</td>\n",
       "      <td>0.027337</td>\n",
       "      <td>0.147409</td>\n",
       "      <td>0.147518</td>\n",
       "      <td>0.004159</td>\n",
       "      <td>0.008660</td>\n",
       "      <td>...</td>\n",
       "      <td>0.061207</td>\n",
       "      <td>0.061183</td>\n",
       "      <td>0.025335</td>\n",
       "      <td>0.025883</td>\n",
       "      <td>0.145454</td>\n",
       "      <td>0.145602</td>\n",
       "      <td>0.003858</td>\n",
       "      <td>0.008504</td>\n",
       "      <td>0.045685</td>\n",
       "      <td>0.045893</td>\n",
       "    </tr>\n",
       "    <tr>\n",
       "      <th>R2</th>\n",
       "      <td>0.911502</td>\n",
       "      <td>0.910940</td>\n",
       "      <td>0.917367</td>\n",
       "      <td>0.917386</td>\n",
       "      <td>0.985995</td>\n",
       "      <td>0.985516</td>\n",
       "      <td>0.832185</td>\n",
       "      <td>0.831974</td>\n",
       "      <td>0.999784</td>\n",
       "      <td>0.998982</td>\n",
       "      <td>...</td>\n",
       "      <td>0.922060</td>\n",
       "      <td>0.921216</td>\n",
       "      <td>0.992955</td>\n",
       "      <td>0.992712</td>\n",
       "      <td>0.846074</td>\n",
       "      <td>0.845233</td>\n",
       "      <td>0.999891</td>\n",
       "      <td>0.999558</td>\n",
       "      <td>0.986212</td>\n",
       "      <td>0.985858</td>\n",
       "    </tr>\n",
       "    <tr>\n",
       "      <th>pm RMSE</th>\n",
       "      <td>NaN</td>\n",
       "      <td>NaN</td>\n",
       "      <td>0.400252</td>\n",
       "      <td>0.160081</td>\n",
       "      <td>0.164518</td>\n",
       "      <td>0.167241</td>\n",
       "      <td>0.557947</td>\n",
       "      <td>0.558125</td>\n",
       "      <td>0.020288</td>\n",
       "      <td>0.044093</td>\n",
       "      <td>...</td>\n",
       "      <td>0.388417</td>\n",
       "      <td>0.390427</td>\n",
       "      <td>0.115483</td>\n",
       "      <td>0.117392</td>\n",
       "      <td>0.533223</td>\n",
       "      <td>0.534580</td>\n",
       "      <td>0.014210</td>\n",
       "      <td>0.028373</td>\n",
       "      <td>0.158995</td>\n",
       "      <td>0.161078</td>\n",
       "    </tr>\n",
       "  </tbody>\n",
       "</table>\n",
       "<p>3 rows × 22 columns</p>\n",
       "</div>"
      ],
      "text/plain": [
       "                  poly_test  poly_train  xgb_train  xgb_test  lgb_train  \\\n",
       "stator_yoke RMSE   0.296172    0.297187   0.060909  0.003707   0.026721   \n",
       "R2                 0.911502    0.910940   0.917367  0.917386   0.985995   \n",
       "pm RMSE                 NaN         NaN   0.400252  0.160081   0.164518   \n",
       "\n",
       "                  lgb_test  ada_train  ada_test  rf_train   rf_test  \\\n",
       "stator_yoke RMSE  0.027337   0.147409  0.147518  0.004159  0.008660   \n",
       "R2                0.985516   0.832185  0.831974  0.999784  0.998982   \n",
       "pm RMSE           0.167241   0.557947  0.558125  0.020288  0.044093   \n",
       "\n",
       "                     ...      p_xgb_train  p_xgb_test  p_lgb_train  \\\n",
       "stator_yoke RMSE     ...         0.061207    0.061183     0.025335   \n",
       "R2                   ...         0.922060    0.921216     0.992955   \n",
       "pm RMSE              ...         0.388417    0.390427     0.115483   \n",
       "\n",
       "                  p_lgb_test  p_ada_train  p_ada_test  p_rf_train  p_rf_test  \\\n",
       "stator_yoke RMSE    0.025883     0.145454    0.145602    0.003858   0.008504   \n",
       "R2                  0.992712     0.846074    0.845233    0.999891   0.999558   \n",
       "pm RMSE             0.117392     0.533223    0.534580    0.014210   0.028373   \n",
       "\n",
       "                  nn100_train  nn100_test  \n",
       "stator_yoke RMSE     0.045685    0.045893  \n",
       "R2                   0.986212    0.985858  \n",
       "pm RMSE              0.158995    0.161078  \n",
       "\n",
       "[3 rows x 22 columns]"
      ]
     },
     "execution_count": 219,
     "metadata": {},
     "output_type": "execute_result"
    }
   ],
   "source": [
    "RMSE_R2_values = pd.concat([poly_test,poly_train,xgb_train, xgb_test,lgb_train,lgb_test,ada_train,ada_test,rf_train,rf_test,p_poly_train,p_poly_test,p_xgb_train, p_xgb_test,p_lgb_train,p_lgb_test,p_ada_train,p_ada_test,p_rf_train,p_rf_test,nn_train, nn_test], axis=1, sort=False)\n",
    "RMSE_R2_values = RMSE_R2_values.rename(index={'stator_yoke': 'stator_yoke RMSE','pm':'pm RMSE',0:\"R2\"})\n",
    "RMSE_R2_values\n"
   ]
  },
  {
   "cell_type": "code",
   "execution_count": null,
   "metadata": {},
   "outputs": [],
   "source": []
  },
  {
   "cell_type": "code",
   "execution_count": null,
   "metadata": {},
   "outputs": [],
   "source": []
  }
 ],
 "metadata": {
  "kernelspec": {
   "display_name": "Python 3",
   "language": "python",
   "name": "python3"
  },
  "language_info": {
   "codemirror_mode": {
    "name": "ipython",
    "version": 3
   },
   "file_extension": ".py",
   "mimetype": "text/x-python",
   "name": "python",
   "nbconvert_exporter": "python",
   "pygments_lexer": "ipython3",
   "version": "3.7.1"
  }
 },
 "nbformat": 4,
 "nbformat_minor": 2
}
